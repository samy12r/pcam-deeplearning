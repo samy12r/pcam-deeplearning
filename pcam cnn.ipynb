{
 "cells": [
  {
   "cell_type": "markdown",
   "id": "f3017af2-c851-44a4-b03d-217c7264fa3a",
   "metadata": {},
   "source": [
    "# data"
   ]
  },
  {
   "cell_type": "markdown",
   "id": "e94e2a71-78a1-4faa-b2a5-4e60746f78f4",
   "metadata": {},
   "source": [
    "import numpy as np\n",
    "import matplotlib.pyplot as plt\n",
    "import torch\n",
    "from torch import nn\n",
    "from torchvision import datasets, transforms"
   ]
  },
  {
   "cell_type": "code",
   "execution_count": 2,
   "id": "2b1a28f9-39de-4124-8f1c-ac01411b7ec7",
   "metadata": {},
   "outputs": [
    {
     "name": "stdout",
     "output_type": "stream",
     "text": [
      "Current device is cuda\n"
     ]
    }
   ],
   "source": [
    "# device\n",
    "device = 'cuda' if torch.cuda.is_available() else 'cpu'\n",
    "\n",
    "print('Current device is', device)\n",
    "\n",
    "# for reproducibility\n",
    "torch.manual_seed(2023)\n",
    "if device == 'cuda':\n",
    "    torch.cuda.manual_seed_all(2023)"
   ]
  },
  {
   "cell_type": "code",
   "execution_count": 3,
   "id": "0e36ae72-1215-485e-97fa-8b57c90b250e",
   "metadata": {},
   "outputs": [
    {
     "name": "stdout",
     "output_type": "stream",
     "text": [
      "KaggleHub cache deleted.\n"
     ]
    }
   ],
   "source": [
    "import shutil\n",
    "import os\n",
    "\n",
    "# 손상된 캐시 폴더 삭제\n",
    "cache_dir = os.path.expanduser(\"~/.cache/kagglehub\")\n",
    "if os.path.exists(cache_dir):\n",
    "    shutil.rmtree(cache_dir)\n",
    "    print(\"KaggleHub cache deleted.\")"
   ]
  },
  {
   "cell_type": "code",
   "execution_count": 4,
   "id": "f57f8c7c-5b5d-4002-8446-4611e095f07b",
   "metadata": {},
   "outputs": [
    {
     "name": "stdout",
     "output_type": "stream",
     "text": [
      "Downloading from https://www.kaggle.com/api/v1/datasets/download/andrewmvd/metastatic-tissue-classification-patchcamelyon?dataset_version_number=9...\n"
     ]
    },
    {
     "name": "stderr",
     "output_type": "stream",
     "text": [
      "100%|█████████████████████████████████████| 7.47G/7.47G [11:35<00:00, 11.5MB/s]\n"
     ]
    },
    {
     "name": "stdout",
     "output_type": "stream",
     "text": [
      "Extracting files...\n",
      "Path to dataset files: C:\\Users\\roobe\\.cache\\kagglehub\\datasets\\andrewmvd\\metastatic-tissue-classification-patchcamelyon\\versions\\9\n"
     ]
    }
   ],
   "source": [
    "import kagglehub\n",
    "\n",
    "path = kagglehub.dataset_download(\"andrewmvd/metastatic-tissue-classification-patchcamelyon\")\n",
    "print(\"Path to dataset files:\", path)"
   ]
  },
  {
   "cell_type": "code",
   "execution_count": 5,
   "id": "539d7bc5-0448-4279-b9cb-7a826ee0ebe4",
   "metadata": {},
   "outputs": [
    {
     "name": "stdout",
     "output_type": "stream",
     "text": [
      "📁 C:\\Users\\roobe/.cache/kagglehub/datasets/andrewmvd/metastatic-tissue-classification-patchcamelyon\n",
      "   └─ 9.complete\n",
      "📁 C:\\Users\\roobe/.cache/kagglehub/datasets/andrewmvd/metastatic-tissue-classification-patchcamelyon\\versions\n",
      "📁 C:\\Users\\roobe/.cache/kagglehub/datasets/andrewmvd/metastatic-tissue-classification-patchcamelyon\\versions\\9\n",
      "📁 C:\\Users\\roobe/.cache/kagglehub/datasets/andrewmvd/metastatic-tissue-classification-patchcamelyon\\versions\\9\\camelyonpatch_level_2_split_train_mask\n",
      "   └─ camelyonpatch_level_2_split_train_mask.h5\n",
      "📁 C:\\Users\\roobe/.cache/kagglehub/datasets/andrewmvd/metastatic-tissue-classification-patchcamelyon\\versions\\9\\Labels\n",
      "📁 C:\\Users\\roobe/.cache/kagglehub/datasets/andrewmvd/metastatic-tissue-classification-patchcamelyon\\versions\\9\\Labels\\Labels\n",
      "   └─ camelyonpatch_level_2_split_test_y.h5\n",
      "   └─ camelyonpatch_level_2_split_train_y.h5\n",
      "   └─ camelyonpatch_level_2_split_valid_y.h5\n",
      "📁 C:\\Users\\roobe/.cache/kagglehub/datasets/andrewmvd/metastatic-tissue-classification-patchcamelyon\\versions\\9\\Metadata\n",
      "📁 C:\\Users\\roobe/.cache/kagglehub/datasets/andrewmvd/metastatic-tissue-classification-patchcamelyon\\versions\\9\\Metadata\\Metadata\n",
      "   └─ test_metadata.csv\n",
      "   └─ train_metadata.csv\n",
      "   └─ valid_metadata.csv\n",
      "📁 C:\\Users\\roobe/.cache/kagglehub/datasets/andrewmvd/metastatic-tissue-classification-patchcamelyon\\versions\\9\\pcam\n",
      "   └─ test_split.h5\n",
      "   └─ training_split.h5\n",
      "   └─ validation_split.h5\n"
     ]
    }
   ],
   "source": [
    "import os\n",
    "\n",
    "# 사용자 홈 기준으로 자동 경로 설정\n",
    "base_path = os.path.expanduser(\"~/.cache/kagglehub/datasets/andrewmvd/metastatic-tissue-classification-patchcamelyon\")\n",
    "\n",
    "# 모든 하위 버전 디렉토리 확인\n",
    "for root, dirs, files in os.walk(base_path):\n",
    "    print(\"📁\", root)\n",
    "    for f in files:\n",
    "        print(\"   └─\", f)\n"
   ]
  },
  {
   "cell_type": "code",
   "execution_count": 6,
   "id": "a4707497-aebd-4849-bb41-bc0afd159165",
   "metadata": {},
   "outputs": [
    {
     "name": "stdout",
     "output_type": "stream",
     "text": [
      "✅ HDF5 파일 로드 성공!\n",
      "📂 포함된 키 목록: ['x']\n"
     ]
    }
   ],
   "source": [
    "import os\n",
    "import h5py\n",
    "\n",
    "# Windows 사용자 홈 디렉토리 기준 경로\n",
    "data_dir = os.path.expanduser(\"~/.cache/kagglehub/datasets/andrewmvd/metastatic-tissue-classification-patchcamelyon/versions/9/pcam\")\n",
    "h5_file = os.path.join(data_dir, \"training_split.h5\")\n",
    "\n",
    "# HDF5 파일 내부 키 확인\n",
    "with h5py.File(h5_file, \"r\") as file:\n",
    "    print(\"✅ HDF5 파일 로드 성공!\")\n",
    "    print(\"📂 포함된 키 목록:\", list(file.keys()))"
   ]
  },
  {
   "cell_type": "code",
   "execution_count": 43,
   "id": "57e33d93-13a2-48a0-82bb-4dff1b9f9c86",
   "metadata": {},
   "outputs": [
    {
     "name": "stdout",
     "output_type": "stream",
     "text": [
      "Train dataset size: 262144\n",
      "Validation dataset size: 32768\n",
      "Test dataset size: 32768\n"
     ]
    }
   ],
   "source": [
    "# HDF5 데이터셋 클래스 정의\n",
    "import os\n",
    "import torchvision.transforms as transforms\n",
    "from PIL import Image\n",
    "\n",
    "# Define the transform\n",
    "transform = transforms.Compose([\n",
    "    transforms.Grayscale(num_output_channels=3),\n",
    "    transforms.RandomHorizontalFlip(), #과적합 방지 위해서 뒤집은 데이터도 학습-> 데이터 늘림\n",
    "    transforms.RandomRotation(10),#과적합 방지 위해서 데이터 10도 회전시켜서 학습\n",
    "    transforms.ToTensor(),\n",
    "    transforms.Normalize([0.5]*3, [0.5]*3)\n",
    "])\n",
    "\n",
    "\n",
    "class HDF5Dataset(Dataset):\n",
    "    def __init__(self, image_h5_path, label_h5_path, transform=None):\n",
    "        self.image_h5_path = image_h5_path\n",
    "        self.label_h5_path = label_h5_path\n",
    "        self.transform = transform\n",
    "        # HDF5 파일 열기\n",
    "        with h5py.File(self.image_h5_path, \"r\") as img_file, h5py.File(self.label_h5_path, \"r\") as lbl_file:\n",
    "             self.images = img_file[\"x\"][:]  #이미지 데이터를 넘파이 배열로 변환해서 로드\n",
    "             self.labels = lbl_file[\"y\"][:]  #레이블 데이터를 넘파이 배열로 변환해서 로드\n",
    "\n",
    "    def __len__(self):\n",
    "        return len(self.images)\n",
    "\n",
    "  \n",
    "\n",
    "    def __getitem__(self, idx):\n",
    "      image = self.images[idx]\n",
    "      label = self.labels[idx]\n",
    "\n",
    "    # NumPy 배열을 PIL 이미지로 변환 (PIL은 HWC 순서를 기대함)\n",
    "      image = Image.fromarray(image.astype(np.uint8))  # (H, W, C)\n",
    "\n",
    "      if self.transform:\n",
    "         image = self.transform(image)  # transform이 (C, H, W) 등으로 바꿔줌\n",
    "      label = torch.tensor(label).squeeze().long()\n",
    "      return image, label\n",
    "\n",
    "\n",
    "# 데이터셋 경로 설정\n",
    "# 경로 수정\n",
    "data_dir = os.path.expanduser(\"~/.cache/kagglehub/datasets/andrewmvd/metastatic-tissue-classification-patchcamelyon/versions/9\")\n",
    "image_dir = os.path.join(data_dir, \"pcam\")  # ✅ 여기까지만\n",
    "label_dir = os.path.join(data_dir, \"Labels\", \"Labels\")  # ✅ 그대로 유지\n",
    "\n",
    "\n",
    "# 학습 데이터 로드\n",
    "train_dataset = HDF5Dataset(\n",
    "    image_h5_path=os.path.join(image_dir, \"training_split.h5\"),\n",
    "    label_h5_path=os.path.join(label_dir, \"camelyonpatch_level_2_split_train_y.h5\"),  # 수정된 레이블 경로\n",
    "    transform=transform\n",
    ")\n",
    "train_loader = DataLoader(train_dataset, batch_size=32, shuffle=True)\n",
    "\n",
    "# 검증 데이터 로드\n",
    "val_dataset = HDF5Dataset(\n",
    "    image_h5_path=os.path.join(image_dir, \"validation_split.h5\"),\n",
    "    label_h5_path=os.path.join(label_dir, \"camelyonpatch_level_2_split_valid_y.h5\"),  # 수정된 레이블 경로\n",
    "    transform=transform\n",
    ")\n",
    "val_loader = DataLoader(val_dataset, batch_size=32, shuffle=False)\n",
    "\n",
    "# 테스트 데이터 로드\n",
    "test_dataset = HDF5Dataset(\n",
    "    image_h5_path=os.path.join(image_dir, \"test_split.h5\"),\n",
    "    label_h5_path=os.path.join(label_dir, \"camelyonpatch_level_2_split_test_y.h5\"),  # 수정된 레이블 경로\n",
    "    transform=transform\n",
    ")\n",
    "test_loader = DataLoader(test_dataset, batch_size=64, shuffle=False)\n",
    "\n",
    "# 데이터 개수 확인\n",
    "print(f\"Train dataset size: {len(train_dataset)}\")\n",
    "print(f\"Validation dataset size: {len(val_dataset)}\")\n",
    "print(f\"Test dataset size: {len(test_dataset)}\")"
   ]
  },
  {
   "cell_type": "markdown",
   "id": "17a7f34c-1e82-46d6-95ac-ed7811e57e89",
   "metadata": {},
   "source": [
    "# model\n"
   ]
  },
  {
   "cell_type": "code",
   "execution_count": 7,
   "id": "fc4651f7-feda-41de-a998-75f999a4800b",
   "metadata": {},
   "outputs": [],
   "source": [
    "import h5py\n",
    "import torch\n",
    "from torch.utils.data import Dataset,DataLoader\n",
    "import torchvision\n",
    "import torchvision.transforms as transforms\n",
    "import torch.nn as nn\n",
    "import torch.nn.functional as F\n",
    "import torch.optim as optim\n",
    "import argparse\n",
    "import numpy as np\n",
    "import time\n",
    "from copy import deepcopy # Add Deepcopy for args\n",
    "\n",
    "import matplotlib.pyplot as plt"
   ]
  },
  {
   "cell_type": "code",
   "execution_count": 41,
   "id": "20ee4aee-4071-4bbc-a93d-8110330a3e18",
   "metadata": {},
   "outputs": [],
   "source": [
    "\n",
    "class CNN(nn.Module):\n",
    "    def __init__(self):\n",
    "        super(CNN, self).__init__()\n",
    "        # L1 ImgIn shape=(262144, 96, 96, 3)\n",
    "        #    Conv     -> (?, 32, 96, 96)\n",
    "        #    Pool     -> (?, 32, 48, 48)\n",
    "        self.layer1 = torch.nn.Sequential(\n",
    "            nn.Conv2d(3, 32, kernel_size=3, stride=2, padding=2),\n",
    "            nn.ReLU(),\n",
    "            nn.MaxPool2d(kernel_size=2, stride=2))\n",
    "        # L2 ImgIn shape=(?, 32, 48, 48)\n",
    "        #    Conv      ->(?, 64, 25, 25)\n",
    "        #    Pool      ->(?, 64, 12, 12)\n",
    "        self.layer2 = torch.nn.Sequential(\n",
    "            nn.Conv2d(32, 64, 3, stride=2, padding=1),\n",
    "            nn.ReLU(),\n",
    "            nn.MaxPool2d(2, stride=2))\n",
    "        # FC (?, 64*6*6) inputs -> (?, 10) outputs\n",
    "        nn.Dropout2d(p=0.5)\n",
    "        self.fc = nn.Linear(64*6*6, 10)\n",
    "        nn.init.kaiming_normal_(self.fc.weight)\n",
    "\n",
    "    def forward(self, x):\n",
    "        out = self.layer1(x)\n",
    "        out = self.layer2(out)\n",
    "        out = out.view(out.size(0), -1)   # Flatten them (?, 64*12*12) for FC\n",
    "        out = self.fc(out)\n",
    "        return out\n"
   ]
  },
  {
   "cell_type": "code",
   "execution_count": 34,
   "id": "6107d3a8-e67b-41ef-84ec-bb416c9cd7d1",
   "metadata": {},
   "outputs": [],
   "source": [
    "# hyperparameters\n",
    "learning_rate = 0.001\n",
    "epochs = 10\n",
    "\n",
    "# instantiate CNN model\n",
    "model = CNN().to(device)\n",
    "\n",
    "# define loss & optimizer\n",
    "criterion = nn.CrossEntropyLoss().to(device)    # Softmax is internally computed.\n",
    "optimizer = torch.optim.Adam(model.parameters(), lr=learning_rate)"
   ]
  },
  {
   "cell_type": "code",
   "execution_count": 35,
   "id": "fe0fe1db-6aca-4c16-95a7-0225b117e743",
   "metadata": {},
   "outputs": [
    {
     "name": "stdout",
     "output_type": "stream",
     "text": [
      "CNN(\n",
      "  (layer1): Sequential(\n",
      "    (0): Conv2d(3, 32, kernel_size=(3, 3), stride=(2, 2), padding=(2, 2))\n",
      "    (1): ReLU()\n",
      "    (2): MaxPool2d(kernel_size=2, stride=2, padding=0, dilation=1, ceil_mode=False)\n",
      "  )\n",
      "  (layer2): Sequential(\n",
      "    (0): Conv2d(32, 64, kernel_size=(3, 3), stride=(2, 2), padding=(1, 1))\n",
      "    (1): ReLU()\n",
      "    (2): Dropout2d(p=0.3, inplace=False)\n",
      "    (3): MaxPool2d(kernel_size=2, stride=2, padding=0, dilation=1, ceil_mode=False)\n",
      "  )\n",
      "  (fc): Linear(in_features=2304, out_features=10, bias=True)\n",
      ")\n"
     ]
    }
   ],
   "source": [
    "print(model)"
   ]
  },
  {
   "cell_type": "markdown",
   "id": "3794ce3b-9377-4663-ae3d-c88195c1400a",
   "metadata": {},
   "source": [
    "# trainning"
   ]
  },
  {
   "cell_type": "code",
   "execution_count": 36,
   "id": "7d2fe3b4-4490-44a6-b9b1-5a107de883fd",
   "metadata": {},
   "outputs": [],
   "source": [
    "train_batch = len(train_loader)\n",
    "val_batch = len(val_loader)"
   ]
  },
  {
   "cell_type": "code",
   "execution_count": 44,
   "id": "4f5206b2-892e-4b24-a6bc-8f5f38e23707",
   "metadata": {},
   "outputs": [
    {
     "name": "stdout",
     "output_type": "stream",
     "text": [
      "Learning started.\n",
      "[Epoch  1] loss 0.1713  acc 68.70, val loss 0.1381  val acc 71.88\n",
      "[Epoch  2] loss 0.1342  acc 74.07, val loss 0.1319  val acc 73.24\n",
      "[Epoch  3] loss 0.1318  acc 74.80, val loss 0.1340  val acc 72.50\n",
      "[Epoch  4] loss 0.1309  acc 74.97, val loss 0.1311  val acc 73.24\n",
      "[Epoch  5] loss 0.1303  acc 75.02, val loss 0.1329  val acc 74.05\n",
      "[Epoch  6] loss 0.1299  acc 75.25, val loss 0.1286  val acc 74.00\n",
      "[Epoch  7] loss 0.1295  acc 75.26, val loss 0.1282  val acc 74.59\n",
      "[Epoch  8] loss 0.1291  acc 75.28, val loss 0.1286  val acc 74.33\n",
      "[Epoch  9] loss 0.1289  acc 75.36, val loss 0.1295  val acc 74.57\n",
      "[Epoch 10] loss 0.1292  acc 75.32, val loss 0.1293  val acc 73.66\n",
      "Early Stopping!\n",
      "Learning Finished!\n"
     ]
    }
   ],
   "source": [
    "print('Learning started.')\n",
    "\n",
    "train_loss_list = []\n",
    "train_acc_list = []\n",
    "\n",
    "val_loss_list = []\n",
    "val_acc_list = []\n",
    "\n",
    "best_val_loss = 10**9           # 초기값을 매우 큰 값으로 설정\n",
    "patience_limit = 3              # 최대 몇 번의 epoch까지 개선 없음을 허용할지\n",
    "patience_check = 0              # 현재 몇 epoch 연속으로 개선되지 않았는지\n",
    "\n",
    "# The 'epochs' variable was defined earlier in the code (ipython-input-8-080b2324935d)\n",
    "for epoch in range(epochs): # Use 'epochs' instead of 'epoch'\n",
    "    # training\n",
    "    train_loss = 0\n",
    "    correct = 0\n",
    "\n",
    "    for X, Y in train_loader:\n",
    "        # image is already size of (1, 28, 28), no reshape\n",
    "        # label is not one-hot encoded\n",
    "        X = X.to(device)\n",
    "        Y = Y.to(device)\n",
    "\n",
    "        optimizer.zero_grad()\n",
    "        Y_pred = model.forward(X)\n",
    "        loss = criterion(Y_pred, Y)\n",
    "        loss.backward()\n",
    "        optimizer.step()\n",
    "\n",
    "        train_loss += loss / train_batch\n",
    "\n",
    "        correct_prediction = torch.argmax(Y_pred, 1) == Y\n",
    "        correct += correct_prediction.sum()\n",
    "\n",
    "    train_acc = (100*correct/len(train_loader.dataset))\n",
    "    train_acc_list.append(train_acc.item())\n",
    "    train_loss_list.append(train_loss.item())\n",
    "\n",
    "\n",
    "    # validation\n",
    "    with torch.no_grad(): #validation 에서는 gardient 업데이트x\n",
    "        val_loss = 0\n",
    "        correct = 0\n",
    "\n",
    "        for X, Y in val_loader:\n",
    "            X_val = X.to(device)\n",
    "            Y_val = Y.to(device)\n",
    "\n",
    "            Y_pred = model.forward(X_val)\n",
    "            loss = criterion(Y_pred, Y_val)\n",
    "\n",
    "            val_loss += loss / val_batch\n",
    "\n",
    "            correct_prediction = torch.argmax(Y_pred, 1) == Y_val\n",
    "            correct += correct_prediction.sum()\n",
    "\n",
    "        val_acc = (100*correct/len(val_loader.dataset))\n",
    "        val_acc_list.append(val_acc.item())\n",
    "        val_loss_list.append(val_loss.item())\n",
    "\n",
    "    print(\"[Epoch %2d] loss %.4f  acc %.2f, val loss %.4f  val acc %.2f\"\n",
    "          % (epoch+1, train_loss, train_acc, val_loss, val_acc))\n",
    "      # ----------------- Early Stopping -----------------\n",
    "    if val_loss > best_val_loss:\n",
    "        patience_check += 1\n",
    "        if patience_check >= patience_limit:\n",
    "            print('Early Stopping!')\n",
    "            break\n",
    "    else:\n",
    "        best_val_loss = val_loss\n",
    "        patience_check = 0\n",
    "\n",
    "print('Learning Finished!')"
   ]
  },
  {
   "cell_type": "code",
   "execution_count": 26,
   "id": "61ab7793-163d-4217-b0c1-8e06be787eab",
   "metadata": {},
   "outputs": [
    {
     "name": "stdout",
     "output_type": "stream",
     "text": [
      "Label shape: torch.Size([8, 1, 1, 1])\n"
     ]
    }
   ],
   "source": [
    "for x, y in train_loader:\n",
    "    print(\"Label shape:\", y.shape)\n",
    "    break\n"
   ]
  },
  {
   "cell_type": "code",
   "execution_count": 45,
   "id": "b6667667-1b77-4664-ad7f-8dd3155a8805",
   "metadata": {},
   "outputs": [
    {
     "data": {
      "image/png": "[encoded data removed]",
      "text/plain": [
       "<Figure size 1400x500 with 2 Axes>"
      ]
     },
     "metadata": {},
     "output_type": "display_data"
    }
   ],
   "source": [
    "plt.figure(figsize=(14, 5))\n",
    "plt.subplot(1,2,1)\n",
    "plt.plot(range(len(train_loss_list)), train_loss_list, range(len(val_loss_list)), val_loss_list)\n",
    "plt.legend(['Training', 'Validation'])\n",
    "plt.title('Loss')\n",
    "plt.subplot(1,2,2)\n",
    "plt.plot(range(len(train_acc_list)), train_acc_list, range(len(val_acc_list)),val_acc_list)\n",
    "plt.legend(['Training', 'Validation'])\n",
    "plt.title('Accuracy')\n",
    "plt.show()"
   ]
  },
  {
   "cell_type": "code",
   "execution_count": 46,
   "id": "ed2447ec-a1c0-4484-afb7-65472ad8d665",
   "metadata": {},
   "outputs": [
    {
     "name": "stdout",
     "output_type": "stream",
     "text": [
      "Test set Accuracy: 74.28\n"
     ]
    }
   ],
   "source": [
    "with torch.no_grad():\n",
    "    correct = 0\n",
    "    for X, Y in test_loader:\n",
    "        X_test = X.to(device)\n",
    "        Y_test = Y.to(device).view(-1).long()  # <-- 중요\n",
    "\n",
    "        Y_pred = model.forward(X_test)\n",
    "        prediction = torch.argmax(Y_pred, 1)\n",
    "        correct_prediction = prediction == Y_test\n",
    "        correct += correct_prediction.sum().item()\n",
    "\n",
    "    accuracy = correct / len(test_loader.dataset) * 100\n",
    "    print('Test set Accuracy: %.2f' % accuracy)\n"
   ]
  },
  {
   "cell_type": "code",
   "execution_count": null,
   "id": "e0a037ca-fd8a-4624-a529-362ed248b675",
   "metadata": {},
   "outputs": [],
   "source": []
  }
 ],
 "metadata": {
  "kernelspec": {
   "display_name": "Python 3 (ipykernel)",
   "language": "python",
   "name": "python3"
  },
  "language_info": {
   "codemirror_mode": {
    "name": "ipython",
    "version": 3
   },
   "file_extension": ".py",
   "mimetype": "text/x-python",
   "name": "python",
   "nbconvert_exporter": "python",
   "pygments_lexer": "ipython3",
   "version": "3.11.7"
  }
 },
 "nbformat": 4,
 "nbformat_minor": 5
}
