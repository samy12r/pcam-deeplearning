{
 "cells": [
  {
   "cell_type": "code",
   "execution_count": 1,
   "id": "6dd91bcd-9b5f-4b33-9b79-c2d84ee5cadc",
   "metadata": {},
   "outputs": [],
   "source": [
    "import numpy as np\n",
    "import matplotlib.pyplot as plt\n",
    "import torch\n",
    "from torch import nn\n",
    "from torchvision import datasets, transforms\n"
   ]
  },
  {
   "cell_type": "code",
   "execution_count": 2,
   "id": "38a78335-b869-403a-b452-40ed7e580a42",
   "metadata": {},
   "outputs": [
    {
     "name": "stdout",
     "output_type": "stream",
     "text": [
      "Current device is cuda\n"
     ]
    }
   ],
   "source": [
    "# device\n",
    "device = 'cuda' if torch.cuda.is_available() else 'cpu'\n",
    "\n",
    "print('Current device is', device)\n",
    "\n",
    "# for reproducibility\n",
    "torch.manual_seed(2023)\n",
    "if device == 'cuda':\n",
    "    torch.cuda.manual_seed_all(2023)"
   ]
  },
  {
   "cell_type": "code",
   "execution_count": 3,
   "id": "8d15ccf9-3d9a-4844-a82e-46de2b9ba244",
   "metadata": {},
   "outputs": [
    {
     "name": "stdout",
     "output_type": "stream",
     "text": [
      "KaggleHub cache deleted.\n"
     ]
    }
   ],
   "source": [
    "import shutil\n",
    "import os\n",
    "\n",
    "# 손상된 캐시 폴더 삭제\n",
    "cache_dir = os.path.expanduser(\"~/.cache/kagglehub\")\n",
    "if os.path.exists(cache_dir):\n",
    "    shutil.rmtree(cache_dir)\n",
    "    print(\"KaggleHub cache deleted.\")\n"
   ]
  },
  {
   "cell_type": "code",
   "execution_count": 5,
   "id": "6de9b4f2-aab0-462e-92f9-adc34839ed57",
   "metadata": {},
   "outputs": [
    {
     "name": "stdout",
     "output_type": "stream",
     "text": [
      "Downloading from https://www.kaggle.com/api/v1/datasets/download/andrewmvd/metastatic-tissue-classification-patchcamelyon?dataset_version_number=9...\n"
     ]
    },
    {
     "name": "stderr",
     "output_type": "stream",
     "text": [
      "100%|█████████████████████████████████████████████████████████████████████████████████████████████████████████████████████████████████████████████| 7.47G/7.47G [11:37<00:00, 11.5MB/s]"
     ]
    },
    {
     "name": "stdout",
     "output_type": "stream",
     "text": [
      "Extracting files...\n"
     ]
    },
    {
     "name": "stderr",
     "output_type": "stream",
     "text": [
      "\n"
     ]
    },
    {
     "name": "stdout",
     "output_type": "stream",
     "text": [
      "Path to dataset files: C:\\Users\\roobe\\.cache\\kagglehub\\datasets\\andrewmvd\\metastatic-tissue-classification-patchcamelyon\\versions\\9\n"
     ]
    }
   ],
   "source": [
    "import kagglehub\n",
    "\n",
    "path = kagglehub.dataset_download(\"andrewmvd/metastatic-tissue-classification-patchcamelyon\")\n",
    "print(\"Path to dataset files:\", path)\n"
   ]
  },
  {
   "cell_type": "code",
   "execution_count": 6,
   "id": "9737d720-d331-4ce6-95a4-5ffead9db028",
   "metadata": {},
   "outputs": [
    {
     "name": "stdout",
     "output_type": "stream",
     "text": [
      "📁 C:\\Users\\roobe/.cache/kagglehub/datasets/andrewmvd/metastatic-tissue-classification-patchcamelyon\n",
      "   └─ 9.complete\n",
      "📁 C:\\Users\\roobe/.cache/kagglehub/datasets/andrewmvd/metastatic-tissue-classification-patchcamelyon\\versions\n",
      "📁 C:\\Users\\roobe/.cache/kagglehub/datasets/andrewmvd/metastatic-tissue-classification-patchcamelyon\\versions\\9\n",
      "📁 C:\\Users\\roobe/.cache/kagglehub/datasets/andrewmvd/metastatic-tissue-classification-patchcamelyon\\versions\\9\\camelyonpatch_level_2_split_train_mask\n",
      "   └─ camelyonpatch_level_2_split_train_mask.h5\n",
      "📁 C:\\Users\\roobe/.cache/kagglehub/datasets/andrewmvd/metastatic-tissue-classification-patchcamelyon\\versions\\9\\Labels\n",
      "📁 C:\\Users\\roobe/.cache/kagglehub/datasets/andrewmvd/metastatic-tissue-classification-patchcamelyon\\versions\\9\\Labels\\Labels\n",
      "   └─ camelyonpatch_level_2_split_test_y.h5\n",
      "   └─ camelyonpatch_level_2_split_train_y.h5\n",
      "   └─ camelyonpatch_level_2_split_valid_y.h5\n",
      "📁 C:\\Users\\roobe/.cache/kagglehub/datasets/andrewmvd/metastatic-tissue-classification-patchcamelyon\\versions\\9\\Metadata\n",
      "📁 C:\\Users\\roobe/.cache/kagglehub/datasets/andrewmvd/metastatic-tissue-classification-patchcamelyon\\versions\\9\\Metadata\\Metadata\n",
      "   └─ test_metadata.csv\n",
      "   └─ train_metadata.csv\n",
      "   └─ valid_metadata.csv\n",
      "📁 C:\\Users\\roobe/.cache/kagglehub/datasets/andrewmvd/metastatic-tissue-classification-patchcamelyon\\versions\\9\\pcam\n",
      "   └─ test_split.h5\n",
      "   └─ training_split.h5\n",
      "   └─ validation_split.h5\n"
     ]
    }
   ],
   "source": [
    "import os\n",
    "\n",
    "# 사용자 홈 기준으로 자동 경로 설정\n",
    "base_path = os.path.expanduser(\"~/.cache/kagglehub/datasets/andrewmvd/metastatic-tissue-classification-patchcamelyon\")\n",
    "\n",
    "# 모든 하위 버전 디렉토리 확인\n",
    "for root, dirs, files in os.walk(base_path):\n",
    "    print(\"📁\", root)\n",
    "    for f in files:\n",
    "        print(\"   └─\", f)\n"
   ]
  },
  {
   "cell_type": "code",
   "execution_count": 7,
   "id": "9a881b2b-939a-4c99-882a-13c2790e1065",
   "metadata": {},
   "outputs": [
    {
     "name": "stdout",
     "output_type": "stream",
     "text": [
      "✅ HDF5 파일 로드 성공!\n",
      "📂 포함된 키 목록: ['x']\n"
     ]
    }
   ],
   "source": [
    "import os\n",
    "import h5py\n",
    "\n",
    "# Windows 사용자 홈 디렉토리 기준 경로\n",
    "data_dir = os.path.expanduser(\"~/.cache/kagglehub/datasets/andrewmvd/metastatic-tissue-classification-patchcamelyon/versions/9/pcam\")\n",
    "h5_file = os.path.join(data_dir, \"training_split.h5\")\n",
    "\n",
    "# HDF5 파일 내부 키 확인\n",
    "with h5py.File(h5_file, \"r\") as file:\n",
    "    print(\"✅ HDF5 파일 로드 성공!\")\n",
    "    print(\"📂 포함된 키 목록:\", list(file.keys()))\n"
   ]
  },
  {
   "cell_type": "code",
   "execution_count": 8,
   "id": "a19c862f-94c7-4ea3-ad2f-e4fb5087ec80",
   "metadata": {},
   "outputs": [],
   "source": [
    "import h5py\n",
    "import torch\n",
    "from torch.utils.data import Dataset,DataLoader\n",
    "import torchvision\n",
    "import torchvision.transforms as transforms\n",
    "import torch.nn as nn\n",
    "import torch.nn.functional as F\n",
    "import torch.optim as optim\n",
    "import argparse\n",
    "import numpy as np\n",
    "import time\n",
    "from copy import deepcopy # Add Deepcopy for args\n",
    "\n",
    "import matplotlib.pyplot as plt"
   ]
  },
  {
   "cell_type": "code",
   "execution_count": 9,
   "id": "46f6835c-9edf-4512-a4d7-2f85f50292d7",
   "metadata": {},
   "outputs": [
    {
     "name": "stdout",
     "output_type": "stream",
     "text": [
      "Train dataset size: 262144\n",
      "Validation dataset size: 32768\n",
      "Test dataset size: 32768\n"
     ]
    }
   ],
   "source": [
    "# HDF5 데이터셋 클래스 정의\n",
    "from torch.utils.data import Dataset\n",
    "import h5py\n",
    "import numpy as np\n",
    "from PIL import Image\n",
    "\n",
    "transform = transforms.Compose([\n",
    "    transforms.Grayscale(num_output_channels=3),\n",
    "    transforms.RandomHorizontalFlip(), #과적합 방지 위해서 뒤집은 데이터도 학습-> 데이터 늘림\n",
    "    transforms.RandomRotation(10),#과적합 방지 위해서 데이터 10도 회전시켜서 학습\n",
    "    transforms.ToTensor(),\n",
    "    transforms.Normalize([0.5]*3, [0.5]*3)\n",
    "])\n",
    "\n",
    "\n",
    "class HDF5Dataset(Dataset):\n",
    "    def __init__(self, image_h5_path, label_h5_path, transform=None):\n",
    "        self.image_h5_path = image_h5_path\n",
    "        self.label_h5_path = label_h5_path\n",
    "        self.transform = transform\n",
    "\n",
    "        # 파일 핸들을 유지하지 않음 — 대신 길이 정보만 가져옴\n",
    "        with h5py.File(self.image_h5_path, \"r\") as img_file:\n",
    "            self.length = len(img_file[\"x\"])\n",
    "\n",
    "    def __len__(self):\n",
    "        return self.length\n",
    "\n",
    "    def __getitem__(self, idx):\n",
    "        # 파일을 매번 열고 필요한 인덱스만 읽기\n",
    "        with h5py.File(self.image_h5_path, \"r\") as img_file:\n",
    "            image = img_file[\"x\"][idx]   #원래 코드는 with h5py.File(self.image_h5_path, \"r\") as img_file, h5py.File(self.label_h5_path, \"r\") as lbl_file:\n",
    "                                         #self.images = img_file[\"x\"][:]  \n",
    "                                         #self.labels = lbl_file[\"y\"][:]->이미지 한번 읽을 때마다 전체 데이터와 레이블을 읽음->용량이 많이 필요  \n",
    "        with h5py.File(self.label_h5_path, \"r\") as lbl_file:\n",
    "            label = lbl_file[\"y\"][idx]#바뀐 방식은 한번에 한장씩 필요한 레이블가 인ㄷㄱ스만 읽음\n",
    "\n",
    "        image = Image.fromarray(image.astype(np.uint8))\n",
    "\n",
    "        if self.transform:\n",
    "            image = self.transform(image)\n",
    "\n",
    "        return image, label\n",
    "\n",
    "\n",
    "\n",
    "# 데이터셋 경로 설정\n",
    "# 경로 수정\n",
    "data_dir = os.path.expanduser(\"~/.cache/kagglehub/datasets/andrewmvd/metastatic-tissue-classification-patchcamelyon/versions/9\")\n",
    "image_dir = os.path.join(data_dir, \"pcam\")  # ✅ 여기까지만\n",
    "label_dir = os.path.join(data_dir, \"Labels\", \"Labels\")  # ✅ 그대로 유지\n",
    "\n",
    "\n",
    "# 학습 데이터 로드\n",
    "train_dataset = HDF5Dataset(\n",
    "    image_h5_path=os.path.join(image_dir, \"training_split.h5\"),\n",
    "    label_h5_path=os.path.join(label_dir, \"camelyonpatch_level_2_split_train_y.h5\"),  # 수정된 레이블 경로\n",
    "    transform=transform\n",
    ")\n",
    "train_loader = DataLoader(train_dataset, batch_size=32, shuffle=True)\n",
    "\n",
    "# 검증 데이터 로드\n",
    "val_dataset = HDF5Dataset(\n",
    "    image_h5_path=os.path.join(image_dir, \"validation_split.h5\"),\n",
    "    label_h5_path=os.path.join(label_dir, \"camelyonpatch_level_2_split_valid_y.h5\"),  # 수정된 레이블 경로\n",
    "    transform=transform\n",
    ")\n",
    "val_loader = DataLoader(val_dataset, batch_size=32, shuffle=False)\n",
    "\n",
    "# 테스트 데이터 로드\n",
    "test_dataset = HDF5Dataset(\n",
    "    image_h5_path=os.path.join(image_dir, \"test_split.h5\"),\n",
    "    label_h5_path=os.path.join(label_dir, \"camelyonpatch_level_2_split_test_y.h5\"),  # 수정된 레이블 경로\n",
    "    transform=transform\n",
    ")\n",
    "test_loader = DataLoader(test_dataset, batch_size=64, shuffle=False)\n",
    "\n",
    "# 데이터 개수 확인\n",
    "print(f\"Train dataset size: {len(train_dataset)}\")\n",
    "print(f\"Validation dataset size: {len(val_dataset)}\")\n",
    "print(f\"Test dataset size: {len(test_dataset)}\")\n"
   ]
  },
  {
   "cell_type": "code",
   "execution_count": 15,
   "id": "0e1339be-2a61-4615-98b7-6d4e9b36515f",
   "metadata": {},
   "outputs": [
    {
     "name": "stdout",
     "output_type": "stream",
     "text": [
      "Current device is cuda\n",
      "VGG(\n",
      "  (features): Sequential(\n",
      "    (0): Conv2d(3, 64, kernel_size=(3, 3), stride=(1, 1), padding=(1, 1))\n",
      "    (1): ReLU(inplace=True)\n",
      "    (2): Conv2d(64, 64, kernel_size=(3, 3), stride=(1, 1), padding=(1, 1))\n",
      "    (3): ReLU(inplace=True)\n",
      "    (4): MaxPool2d(kernel_size=2, stride=2, padding=0, dilation=1, ceil_mode=False)\n",
      "    (5): Conv2d(64, 128, kernel_size=(3, 3), stride=(1, 1), padding=(1, 1))\n",
      "    (6): ReLU(inplace=True)\n",
      "    (7): Conv2d(128, 128, kernel_size=(3, 3), stride=(1, 1), padding=(1, 1))\n",
      "    (8): ReLU(inplace=True)\n",
      "    (9): MaxPool2d(kernel_size=2, stride=2, padding=0, dilation=1, ceil_mode=False)\n",
      "    (10): Conv2d(128, 256, kernel_size=(3, 3), stride=(1, 1), padding=(1, 1))\n",
      "    (11): ReLU(inplace=True)\n",
      "    (12): Conv2d(256, 256, kernel_size=(3, 3), stride=(1, 1), padding=(1, 1))\n",
      "    (13): ReLU(inplace=True)\n",
      "    (14): Conv2d(256, 256, kernel_size=(3, 3), stride=(1, 1), padding=(1, 1))\n",
      "    (15): ReLU(inplace=True)\n",
      "    (16): MaxPool2d(kernel_size=2, stride=2, padding=0, dilation=1, ceil_mode=False)\n",
      "    (17): Conv2d(256, 512, kernel_size=(3, 3), stride=(1, 1), padding=(1, 1))\n",
      "    (18): ReLU(inplace=True)\n",
      "    (19): Conv2d(512, 512, kernel_size=(3, 3), stride=(1, 1), padding=(1, 1))\n",
      "    (20): ReLU(inplace=True)\n",
      "    (21): Conv2d(512, 512, kernel_size=(3, 3), stride=(1, 1), padding=(1, 1))\n",
      "    (22): ReLU(inplace=True)\n",
      "    (23): MaxPool2d(kernel_size=2, stride=2, padding=0, dilation=1, ceil_mode=False)\n",
      "    (24): Conv2d(512, 512, kernel_size=(3, 3), stride=(1, 1), padding=(1, 1))\n",
      "    (25): ReLU(inplace=True)\n",
      "    (26): Conv2d(512, 512, kernel_size=(3, 3), stride=(1, 1), padding=(1, 1))\n",
      "    (27): ReLU(inplace=True)\n",
      "    (28): Conv2d(512, 512, kernel_size=(3, 3), stride=(1, 1), padding=(1, 1))\n",
      "    (29): ReLU(inplace=True)\n",
      "    (30): MaxPool2d(kernel_size=2, stride=2, padding=0, dilation=1, ceil_mode=False)\n",
      "  )\n",
      "  (avgpool): AdaptiveAvgPool2d(output_size=(7, 7))\n",
      "  (classifier): Sequential(\n",
      "    (0): Linear(in_features=25088, out_features=4096, bias=True)\n",
      "    (1): ReLU(inplace=True)\n",
      "    (2): Dropout(p=0.5, inplace=False)\n",
      "    (3): Linear(in_features=4096, out_features=4096, bias=True)\n",
      "    (4): ReLU(inplace=True)\n",
      "    (5): Dropout(p=0.5, inplace=False)\n",
      "    (6): Linear(in_features=4096, out_features=1000, bias=True)\n",
      "  )\n",
      ")\n"
     ]
    }
   ],
   "source": [
    "import torch\n",
    "import torch.nn as nn\n",
    "from torchvision.models import vgg16\n",
    "\n",
    "# device\n",
    "device = 'cuda' if torch.cuda.is_available() else 'cpu'\n",
    "print('Current device is', device)\n",
    "\n",
    "# reproducibility\n",
    "torch.manual_seed(2023)\n",
    "if device == 'cuda':\n",
    "    torch.cuda.manual_seed_all(2023)\n",
    "\n",
    "# hyperparameters\n",
    "learning_rate = 0.01\n",
    "epochs = 5\n",
    "\n",
    "# model\n",
    "model = vgg16().to(device)\n",
    "\n",
    "# loss & optimizer\n",
    "criterion = nn.CrossEntropyLoss().to(device)\n",
    "optimizer = torch.optim.SGD(model.parameters(), lr=learning_rate)\n",
    "\n",
    "print(model)\n"
   ]
  },
  {
   "cell_type": "code",
   "execution_count": 16,
   "id": "213baac9-8066-4af2-9748-307b8e3c0ebe",
   "metadata": {},
   "outputs": [],
   "source": [
    "train_batch = len(train_loader)\n",
    "val_batch = len(val_loader)"
   ]
  },
  {
   "cell_type": "code",
   "execution_count": 17,
   "id": "bb243296-bd31-4673-bcc5-57a8090d0fa4",
   "metadata": {},
   "outputs": [
    {
     "name": "stdout",
     "output_type": "stream",
     "text": [
      "Learning started.\n",
      "[Epoch  1] loss 0.5620  acc 73.50, val loss 0.4634  val acc 79.41\n",
      "[Epoch  2] loss 0.4170  acc 81.49, val loss 0.4158  val acc 81.70\n",
      "[Epoch  3] loss 0.3748  acc 83.65, val loss 0.3876  val acc 83.02\n",
      "[Epoch  4] loss 0.3360  acc 85.68, val loss 0.3465  val acc 85.32\n",
      "[Epoch  5] loss 0.2976  acc 87.62, val loss 0.3499  val acc 84.74\n",
      "Learning Finished!\n"
     ]
    }
   ],
   "source": [
    "print('Learning started.')\n",
    "\n",
    "train_loss_list = []\n",
    "train_acc_list = []\n",
    "\n",
    "val_loss_list = []\n",
    "val_acc_list = []\n",
    "\n",
    "best_val_loss = 10**9           # 초기값을 매우 큰 값으로 설정\n",
    "patience_limit = 3              # 최대 몇 번의 epoch까지 개선 없음을 허용할지\n",
    "patience_check = 0              # 현재 몇 epoch 연속으로 개선되지 않았는지\n",
    "\n",
    "for epoch in range(epochs): # Use 'epochs' instead of 'epoch'\n",
    "    # training\n",
    "    train_loss = 0\n",
    "    correct = 0\n",
    "\n",
    "    for X, Y in train_loader:\n",
    "        # image is already size of (1, 28, 28), no reshape\n",
    "        # label is not one-hot encoded\n",
    "        X = X.to(device)\n",
    "        Y = Y.to(device).squeeze()\n",
    "\n",
    "        optimizer.zero_grad()\n",
    "        Y_pred = model.forward(X)\n",
    "        loss = criterion(Y_pred,Y)\n",
    "        loss.backward()\n",
    "        optimizer.step()\n",
    "\n",
    "        train_loss += loss / train_batch\n",
    "\n",
    "        correct_prediction = torch.argmax(Y_pred, 1) == Y\n",
    "        correct += correct_prediction.sum()\n",
    "\n",
    "    train_acc = (100*correct/len(train_loader.dataset))\n",
    "    train_acc_list.append(train_acc.item())\n",
    "    train_loss_list.append(train_loss.item())\n",
    "\n",
    "\n",
    "    # validation\n",
    "    with torch.no_grad(): #validation 에서는 gardient 업데이트x\n",
    "        val_loss = 0\n",
    "        correct = 0\n",
    "\n",
    "        for X, Y in val_loader:\n",
    "            X_val = X.to(device)\n",
    "            Y_val = Y.to(device).squeeze()\n",
    "\n",
    "            Y_pred = model.forward(X_val)\n",
    "            loss = criterion(Y_pred, Y_val)\n",
    "\n",
    "            val_loss += loss / val_batch\n",
    "\n",
    "            correct_prediction = torch.argmax(Y_pred, 1) == Y_val\n",
    "            correct += correct_prediction.sum()\n",
    "\n",
    "        val_acc = (100*correct/len(val_loader.dataset))\n",
    "        val_acc_list.append(val_acc.item())\n",
    "        val_loss_list.append(val_loss.item())\n",
    "\n",
    "    print(\"[Epoch %2d] loss %.4f  acc %.2f, val loss %.4f  val acc %.2f\"\n",
    "          % (epoch+1, train_loss, train_acc, val_loss, val_acc))\n",
    "\n",
    "     # ----------------- Early Stopping -----------------\n",
    "    if val_loss > best_val_loss:\n",
    "        patience_check += 1\n",
    "        if patience_check >= patience_limit:\n",
    "            print('Early Stopping!')\n",
    "            break\n",
    "    else:\n",
    "        best_val_loss = val_loss\n",
    "        patience_check = 0\n",
    "\n",
    "print('Learning Finished!')  "
   ]
  },
  {
   "cell_type": "code",
   "execution_count": 18,
   "id": "7a77eb94-6e19-46ad-a368-c17880d483fe",
   "metadata": {
    "scrolled": true
   },
   "outputs": [
    {
     "data": {
      "image/png": "[encoded data removed]",
      "text/plain": [
       "<Figure size 1400x500 with 2 Axes>"
      ]
     },
     "metadata": {},
     "output_type": "display_data"
    }
   ],
   "source": [
    "plt.figure(figsize=(14, 5))\n",
    "plt.subplot(1,2,1)\n",
    "plt.plot(range(len(train_loss_list)), train_loss_list, range(len(val_loss_list)), val_loss_list)\n",
    "plt.legend(['Training', 'Validation'])\n",
    "plt.title('Loss')\n",
    "plt.subplot(1,2,2)\n",
    "plt.plot(range(len(train_acc_list)), train_acc_list, range(len(val_acc_list)),val_acc_list)\n",
    "plt.legend(['Training', 'Validation'])\n",
    "plt.title('Accuracy')\n",
    "plt.show()"
   ]
  },
  {
   "cell_type": "code",
   "execution_count": 19,
   "id": "4ce47f02-4824-41d2-9619-9d6c0223ec19",
   "metadata": {},
   "outputs": [
    {
     "name": "stdout",
     "output_type": "stream",
     "text": [
      "Test set Accuracy: 85.10\n"
     ]
    }
   ],
   "source": [
    "with torch.no_grad():\n",
    "    correct = 0\n",
    "    for X, Y in test_loader:\n",
    "        X_test = X.to(device)\n",
    "        Y_test = Y.to(device).view(-1).long()  # <-- 중요\n",
    "\n",
    "        Y_pred = model.forward(X_test)\n",
    "        prediction = torch.argmax(Y_pred, 1)\n",
    "        correct_prediction = prediction == Y_test\n",
    "        correct += correct_prediction.sum().item()\n",
    "\n",
    "    accuracy = correct / len(test_loader.dataset) * 100\n",
    "    print('Test set Accuracy: %.2f' % accuracy)\n"
   ]
  },
  {
   "cell_type": "code",
   "execution_count": null,
   "id": "9686f1e2-918f-44a2-b720-5106115b7c35",
   "metadata": {},
   "outputs": [],
   "source": [
    "print(\"Length of test dataset:\", len(test_loader.dataset))\n"
   ]
  },
  {
   "cell_type": "code",
   "execution_count": 30,
   "id": "35318ecd-ec4a-49f2-817b-a73a63261e12",
   "metadata": {},
   "outputs": [
    {
     "name": "stdout",
     "output_type": "stream",
     "text": [
      "Y_test dtype: torch.uint8\n",
      "Y_test shape: torch.Size([16, 1, 1, 1])\n",
      "Y_test sample: tensor([[[[0]]],\n",
      "\n",
      "\n",
      "        [[[1]]],\n",
      "\n",
      "\n",
      "        [[[1]]],\n",
      "\n",
      "\n",
      "        [[[1]]],\n",
      "\n",
      "\n",
      "        [[[1]]]], device='cuda:0', dtype=torch.uint8)\n"
     ]
    }
   ],
   "source": [
    "print(\"Y_test dtype:\", Y_test.dtype)\n",
    "print(\"Y_test shape:\", Y_test.shape)\n",
    "print(\"Y_test sample:\", Y_test[:5])\n"
   ]
  },
  {
   "cell_type": "code",
   "execution_count": null,
   "id": "b84ece32-6de1-4581-9402-1913bb934e22",
   "metadata": {},
   "outputs": [],
   "source": []
  }
 ],
 "metadata": {
  "kernelspec": {
   "display_name": "Python 3 (ipykernel)",
   "language": "python",
   "name": "python3"
  },
  "language_info": {
   "codemirror_mode": {
    "name": "ipython",
    "version": 3
   },
   "file_extension": ".py",
   "mimetype": "text/x-python",
   "name": "python",
   "nbconvert_exporter": "python",
   "pygments_lexer": "ipython3",
   "version": "3.11.7"
  }
 },
 "nbformat": 4,
 "nbformat_minor": 5
}
